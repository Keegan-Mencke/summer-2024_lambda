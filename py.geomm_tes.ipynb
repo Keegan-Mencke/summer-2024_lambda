{
 "cells": [
  {
   "cell_type": "code",
   "execution_count": 8,
   "id": "available-least",
   "metadata": {},
   "outputs": [
    {
     "data": {
      "text/plain": [
       "Data(x=[2], edge_index=[2])"
      ]
     },
     "execution_count": 8,
     "metadata": {},
     "output_type": "execute_result"
    }
   ],
   "source": [
    "import torch as tr\n",
    "from torch_geometric.data import Data\n",
    "\n",
    "edge_index = torch.tensor([[0, 1],\n",
    "                           [1, 0],\n",
    "                           [1, 2],\n",
    "                           [2,1]\n",
    "                           ], dtype=torch.long) #need both [1,2] and [2,1] becuase it goes both ways.  \n",
    "x = torch.tensor([[-1], [0], [1]], dtype=torch.float)\n",
    "\n",
    "data = Data(x=x, edge_index=edge_index.t().contiguous())\n",
    "Data(edge_index=[2, 4], x=[3, 1])\n",
    "\n"
   ]
  },
  {
   "cell_type": "code",
   "execution_count": null,
   "id": "floral-slide",
   "metadata": {},
   "outputs": [],
   "source": [
    "import sys\n",
    "sys.path.append(‘/home/kam264/Downloads/Mat_function/to/folder’)"
   ]
  },
  {
   "cell_type": "code",
   "execution_count": 4,
   "id": "conditional-nursery",
   "metadata": {},
   "outputs": [
    {
     "data": {
      "text/plain": [
       "True"
      ]
     },
     "execution_count": 4,
     "metadata": {},
     "output_type": "execute_result"
    }
   ],
   "source": [
    "data.validate(raise_on_error=True)\n"
   ]
  },
  {
   "cell_type": "code",
   "execution_count": null,
   "id": "absolute-powell",
   "metadata": {},
   "outputs": [],
   "source": [
    "'''\n",
    "train and test, dataset was 600, 90/10 split.  \n",
    "train_dataset = dataset[:540]\n",
    ">>> ENZYMES(540)\n",
    "\n",
    "test_dataset = dataset[540:]\n",
    ">>> ENZYMES(60)\n",
    "'''"
   ]
  }
 ],
 "metadata": {
  "kernelspec": {
   "display_name": "venv",
   "language": "python",
   "name": "venv"
  },
  "language_info": {
   "codemirror_mode": {
    "name": "ipython",
    "version": 3
   },
   "file_extension": ".py",
   "mimetype": "text/x-python",
   "name": "python",
   "nbconvert_exporter": "python",
   "pygments_lexer": "ipython3",
   "version": "3.8.6"
  }
 },
 "nbformat": 4,
 "nbformat_minor": 5
}
