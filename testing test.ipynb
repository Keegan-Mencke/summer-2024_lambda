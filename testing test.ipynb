{
 "cells": [
  {
   "cell_type": "code",
   "execution_count": 1,
   "id": "db5a4b3d-93de-4462-b3bb-7ea908e49327",
   "metadata": {},
   "outputs": [],
   "source": [
    "import pandas as pd\n",
    "import os\n",
    "import numpy as np\n",
    "import numpy.ma as ma \n",
    "import awkward as ak\n",
    "from tqdm import tqdm \n",
    "import torch \n",
    "import torch_geometric as tg \n",
    "import torch_geometric \n",
    "from torch_geometric.data import Data \n",
    "#import torch\n",
    "from torch_geometric.data import InMemoryDataset, download_url  \n",
    "import torch_geometric.transforms as T \n",
    "\n",
    "#NOTE: NEW 2/20/23     \n",
    "from typing import List, Union   \n",
    "\n",
    "from torch_geometric.data import Data, HeteroData  \n",
    "from torch_geometric.data.datapipes import functional_transform \n",
    "from torch_geometric.transforms import BaseTransform     "
   ]
  },
  {
   "cell_type": "code",
   "execution_count": null,
   "id": "7c33527d-5a3f-4e6c-b210-014d0f4ed0dd",
   "metadata": {},
   "outputs": [],
   "source": [
    "want accuracty as a function of z momentum. "
   ]
  },
  {
   "cell_type": "code",
   "execution_count": 2,
   "id": "17036e42-353e-403d-acaf-1c92d0ff298f",
   "metadata": {},
   "outputs": [
    {
     "data": {
      "text/plain": [
       "MyOwnDataset(17975)"
      ]
     },
     "execution_count": 2,
     "metadata": {},
     "output_type": "execute_result"
    }
   ],
   "source": [
    "torch.cuda.empty_cache() \n",
    " \n",
    "#root = '/hpc/group/vossenlab/kam264/mom_magnitude_pi_x_cx_recmomfull_20000' not horrible, ksate around .2\n",
    "#root = '/hpc/group/vossenlab/kam264/mom_magnitude_pi_x_cx_recfull_vertmom_20000' #much better, bad peak and dip though, so if can fix that, p value\n",
    "#.09, KstestResult(statistic=0.09777468706536856, pvalue=2.779826736292836e-60)\n",
    "#root = '/hpc/group/vossenlab/kam264/mom_magnitude_pi_onlymomentum_rec_20000' shit\n",
    "#root = '/hpc/group/vossenlab/kam264/mom_magnitude_pi_mommnetumvertx_rec_20000'\n",
    "#root = '/hpc/group/vossenlab/kam264/mom_magnitude_pi_all_rec_20000'#not bad, need to do rec stuff though \n",
    "#root = '/hpc/group/vossenlab/kam264/mom_magnitude_pi_all_protmom_20000' #same as above, but got it printed. but rec is jsut z part. \n",
    "#root = '/hpc/group/vossenlab/kam264/stupid_idea' #same as above, but got it printed. but rec is jsut z part. \n",
    "#root = '/hpc/group/vossenlab/kam264/pi_phi_polar'#, mse seems to be better\n",
    "#root = '/hpc/group/vossenlab/kam264/pi_theta_polar' #goodd\n",
    "#root = '/hpc/group/vossenlab/kam264/pi_r_polar' #see slides, week 6 update \n",
    "#root = '/hpc/group/vossenlab/kam264/everythingppi_pionvvv' #not what i ment, actully decent at pion zmomnetum.\n",
    "#root = '/hpc/group/vossenlab/kam264/everythingpi_randomgaus' #bad\n",
    "#root = '/hpc/group/vossenlab/kam264/everythingpi_rrrrandomgausss'\n",
    "root = '/hpc/group/vossenlab/kam264/testt_20000' \n",
    "#root = '/hpc/group/vossenlab/kam264/testmrone_20000' \n",
    "#root = '/hpc/group/vossenlab/kam264/testrkin_20000' #really bad\n",
    "#root = '/hpc/group/vossenlab/kam264/test_momcut_20000' \n",
    "#root = '/hpc/group/vossenlab/kam264/test_100'\n",
    "\n",
    "class MyOwnDataset(InMemoryDataset):\n",
    "    def __init__(self, root, transform=None, pre_transform=None, pre_filter=None):\n",
    "        super().__init__(root, transform, pre_transform, pre_filter)\n",
    "        self.load(self.processed_paths[0])\n",
    "        # For PyG<2.4:\n",
    "        # self.data, self.slices = torch.load(self.processed_paths[0])\n",
    "\n",
    "    @property\n",
    "    def raw_file_names(self):\n",
    "        return ['some_file_1', 'some_file_2']\n",
    "\n",
    "    @property\n",
    "    def processed_file_names(self):\n",
    "        return ['data.pt']\n",
    "\n",
    "    def process(self):\n",
    "        # Read data into huge `Data` list.\n",
    "        data_list = None\n",
    "\n",
    "        if self.pre_filter is not None:\n",
    "            data_list = [data for data in data_list if self.pre_filter(data)]\n",
    "\n",
    "        if self.pre_transform is not None:\n",
    "            data_list = [self.pre_transform(data) for data in data_list]\n",
    "\n",
    "        self.save(data_list, self.processed_paths[0])\n",
    "        # For PyG<2.4:\n",
    "        # torch.save(self.collate(data_list), self.processed_paths[0])\n",
    "\n",
    "# Create PyG Dataset\n",
    "#root = '/hpc/group/vossenlab/kam264/pyg_test_rec_traj_dataset_5_28_24/' # 3_14_24 #OLD\n",
    "dataset = MyOwnDataset(\n",
    "            root,\n",
    "            transform=None, #T.Compose([T.ToUndirected(),T.KNNGraph(k=6)]),\n",
    "            pre_transform=None,\n",
    "            pre_filter=None\n",
    "        )\n",
    "dataset"
   ]
  },
  {
   "cell_type": "code",
   "execution_count": 3,
   "id": "7b67800a-0ce3-4b11-bd5a-162a832fe58b",
   "metadata": {},
   "outputs": [
    {
     "name": "stdout",
     "output_type": "stream",
     "text": [
      "Device =  cuda:0\n",
      "DEBUGGING: torch.cuda.is_available() =  True\n",
      "Number of training graphs: 14380\n",
      "Number of validation graphs: 1797\n",
      "Number of test graphs: 1798\n"
     ]
    },
    {
     "name": "stderr",
     "output_type": "stream",
     "text": [
      "/hpc/home/kam264/.local/lib/python3.8/site-packages/torch_geometric/data/dataset.py:169: UserWarning: Found floating-point labels while calling `dataset.num_classes`. Returning the number of unique elements. Please make sure that this is expected before proceeding.\n",
      "  warnings.warn(\"Found floating-point labels while calling \"\n"
     ]
    }
   ],
   "source": [
    "from torch.nn import Linear\n",
    "import torch.nn.functional as F\n",
    "from torch_geometric.nn import GCNConv\n",
    "from torch_geometric.nn import GraphConv\n",
    "from torch_geometric.nn import global_mean_pool\n",
    "from torch_geometric.nn.norm import GraphNorm, BatchNorm \n",
    "\n",
    "batch_size = 64\n",
    "LR =1e-3\n",
    "\n",
    "class GCN(torch.nn.Module):\n",
    "    def __init__(self, in_channels, hidden_channels, out_channels):\n",
    "        super(GCN, self).__init__()\n",
    "#         torch.manual_seed(12345)\n",
    "        self.conv1 = GCNConv(in_channels, hidden_channels)#.jittable() #NOTE: NEEDED FOR DEPLOYMENT IN CMAKE\n",
    "        self.conv2 = GCNConv(hidden_channels, hidden_channels)#.jittable()\n",
    "        #self.block2 = nn.DataParallel(self.block2)\n",
    "        #self.conv2 = torch.nn.DataParallel(self.conv2) #this was trying the parallization thing. \n",
    "        self.conv3 = GCNConv(hidden_channels, hidden_channels)#.jittable()\n",
    "        #self.conv3 = torch.nn.DataParallel(self.conv3)\n",
    "        self.lin1 = Linear(hidden_channels, hidden_channels)\n",
    "        self.lin2 = Linear(hidden_channels, hidden_channels)\n",
    "        self.lin3 = Linear(hidden_channels, out_channels)\n",
    "        self.bn1 = torch_geometric.nn.norm.GraphNorm(hidden_channels)\n",
    "        self.bn2 = torch_geometric.nn.norm.GraphNorm(hidden_channels)\n",
    "        self.bn3 = torch_geometric.nn.norm.GraphNorm(hidden_channels)\n",
    "\n",
    "    def forward(self, x, edge_index, batch): \n",
    "        # 1. Obtain node embeddings \n",
    "       # x = self.conv1(x, edge_index) #input layer\n",
    "      #  x = self.bn1(x) #normalize it\n",
    "     #   x = x.relu() #activation\n",
    "#         x = torch.nn.function.elu(x)\n",
    "#        x = self.conv2(x, edge_index)\n",
    "#        x = self.bn2(x)\n",
    "#        x = x.relu() \n",
    "#         print(\"x.relu() = \",x)\n",
    "#        x = self.conv3(x, edge_index)\n",
    "#        x = self.bn3(x)\n",
    "#         # 2. Readout layer\n",
    " #       x = global_mean_pool(x, batch) #what is this for.           # [batch_size, hidden_channels]\n",
    "  #      x = F.dropout(x, p=0.5, training=self.training) #for overfitting\n",
    "   #     x = self.lin3(x)\n",
    "        \n",
    "        x = self.conv1(x, edge_index) #input layer                             \n",
    "                                                      \n",
    "        x = self.bn1(x) #normalize it                                          \n",
    "\n",
    "        x = x.relu() #activation                                               \n",
    "        x = self.conv2(x, edge_index)\n",
    "        x = self.bn2(x)\n",
    "        x = x.relu()\n",
    "#         print(\"x.relu() = \",x)  \n",
    "        x = F.dropout(x, p=0.5, training=self.training)\n",
    "        x = self.conv3(x, edge_index)\n",
    "        x = self.bn3(x)\n",
    "#         # 2. Readout layer                                                   \n",
    "        x = global_mean_pool(x, batch)\n",
    "        # 3. Apply a final classifier                                          \n",
    "        x = F.dropout(x, p=0.5, training=self.training) #for overfittin        \n",
    "        x = self.lin3(x)\n",
    "\n",
    "        return x\n",
    "\n",
    "model = GCN(dataset.num_node_features,64,2)\n",
    "device = torch.device('cuda:0' if torch.cuda.is_available() else 'cpu') \n",
    "#devicee = torch.device('cuda:1' if torch.cuda.is_available() else 'cpu') \n",
    "print(\"Device = \",device)\n",
    "model = model.to(device)\n",
    "print(\"DEBUGGING: torch.cuda.is_available() = \",torch.cuda.is_available())\n",
    "\n",
    "from torch.utils.data import random_split #TODO: SEE IF YOU CAN USE THIS\n",
    "# torch.manual_seed(12345)\n",
    "# print('DEBUGGING: BEFORE: dataset.y.shape = ',dataset.y.shape)\n",
    "dataset = dataset.shuffle() #shuffle (randmoize placement of it) not sure if this is needed. \n",
    "#print('DEBUGGING: AFTER:  dataset.y.shape = ',dataset.y.shape)\n",
    "\n",
    "#print(len(dataset)) \n",
    "\n",
    "fracs = [0.8, 0.1, 0.1] #percent of dataset used for training testing and validatoin 80%,10%,10% #NOTE: SHOULD CHECK np.sum(fracs) == 1 and len(fracs)==3\n",
    "fracs = [torch.sum(torch.tensor(fracs[:idx])) for idx in range(1,len(fracs)+1)] #get the indexes for training ... parts to use. \n",
    "#print(fracs)\n",
    "split1, split2 = [int(len(dataset)*frac) for frac in fracs[:-1]] \n",
    "train_dataset = dataset[:split1]\n",
    "val_dataset = dataset[split1:split2]\n",
    "test_dataset = dataset[split2:] \n",
    "\n",
    "print(f'Number of training graphs: {len(train_dataset)}')\n",
    "print(f'Number of validation graphs: {len(val_dataset)}')\n",
    "print(f'Number of test graphs: {len(test_dataset)}') \n",
    "\n",
    "from torch_geometric.loader import DataLoader \n",
    "#from torch.utils.data import WeightedRandomSampler\n",
    "\n",
    "\n",
    "train_loader = DataLoader(train_dataset, batch_size=batch_size, shuffle=False)#, drop_last=True)\n",
    "val_loader = DataLoader(val_dataset,  batch_size=batch_size, shuffle=False)\n",
    "test_loader = DataLoader(test_dataset, batch_size=batch_size, shuffle=False) \n",
    "\n",
    "model = GCN(dataset.num_node_features, dataset.num_classes, 1).to(device) #initiate the model, #2 is the number of outputs here is 2 as pion_z, proton_z \n",
    "\n",
    "optimizer = torch.optim.Adam(model.parameters(), lr= LR) #get the optimizer\n",
    "\n",
    "data_labels = train_dataset.y \n",
    "#weight_signal = counts[1]/counts[0]#DEBUGGING MULTIPLY BY 2 ...\n",
    "#print(\"weight_signal = \",weight_signal) \n",
    "# weight = torch.FloatTensor([weight_signal, 1.0]).to(device) #NOTE: That labels are [sg?,bg?] so label 0 in this case is sg and label 1 is bg.\n",
    "\n",
    "\n",
    "#losss = torch.nn.MSELoss(reduction = 'mean').to(device)\n",
    "#losss = torch.sqrt(losss)\n",
    "\n",
    "#RMSE loss. \n",
    "def RMSELoss(out,y):\n",
    "    return torch.sqrt(torch.mean((out-y)**2))\n",
    "losss = RMSELoss \n",
    "\n",
    "#custom losss\n",
    "def pion_los(out,y):\n",
    "    mse_pi = 0\n",
    "    for j in range(len(out)):\n",
    "            #x_pi = out[j][0]; x_p =out[j][1]                                                                                                                                                                                                 \n",
    "\n",
    "        mse_pi += (out[j][0]-y[j][0].item() )**2\n",
    "    return torch.sqrt(mse_pi/len(out))\n",
    "\n",
    "#losss = pion_los\n",
    "\n",
    "\n",
    "\n",
    "def train():\n",
    "    model.train() #initailize the model                                                                                                                                                                                                       \n",
    "    #for i, data in tqdm(enumerate(train_loader)): #perhaps tqdm(enumerate(train_loader)), i is index, data jsut moves through all the dtaa in trainingg                                                                                      \n",
    "    for i,data in enumerate(train_loader):\n",
    "        data = data.to(device) #switch to GPU                                                                                                                                                                                                 \n",
    "        optimizer.zero_grad() #                                                                                                                                                                                                               \n",
    "        out = model(data.x, data.edge_index, data.batch).to(device)  # Perform a single forward pass                                                                                                                                          \n",
    "        yy = []\n",
    "        for j in range(0,len(out)):\n",
    "            yy+= [[data.y[j].item()]]\n",
    "\n",
    "        yy = torch.tensor(yy).to(device)\n",
    "        #print(out)\n",
    "        #print(yy)\n",
    "        loss = losss(out, yy).to(device) #compute the loss  \n",
    "        #print(loss)\n",
    "        loss.backward() #get the gradients.                                                                                                                                                                                                   \n",
    "        optimizer.step() #take a step.                                                                                                                                                                                                        \n",
    "\n",
    "#from sklearn.metrics import confusion_matrix\n",
    "#from sklearn.metrics import roc_auc_score \n",
    "\n",
    "def test(loader):\n",
    "    length = len(loader.dataset)\n",
    "    model.eval() #evaluate teh model.                                                                                                                                                                                                         \n",
    "\n",
    "    #mse_tot = []                                                                                                                                                                                                                             \n",
    "    mse_total = 0\n",
    "    mse_pi = 0\n",
    "    mse_p = 0\n",
    "    #r                                                                                                                                                                                                                                        \n",
    "    #for data in tqdm(loader):  # Iterate in batches over the training/test dataset.                                                                                                                                                          \n",
    "    for data in loader:\n",
    "        data = data.to(device) #put to GPU                                                                                                                                                                                                    \n",
    "        out = model(data.x, data.edge_index, data.batch).to(device) #evalueate                                                                                                                                                                \n",
    "        #this and the for loop is converting data.y to a tensor in the same shape as out rows and 2 columns first is y_pion second is y_proton                                                                                                \n",
    "        yy = []\n",
    "        for j in range(0,len(out)):\n",
    "            yy+= [[data.y[j].item()]]\n",
    "        yy = torch.tensor(yy).to(device) \n",
    "        loss = losss(out, yy).cpu() #getting teh loss function                                                                                                                                                                                \n",
    "        mse_total+=loss.item() #getting the mse (total)                                                                                                                                                                                       \n",
    "        #for j in range(len(out)):\n",
    "            #x_pi = out[j][0]; x_p =out[j][1]                                                                                                                                                                                                 \n",
    "\n",
    "         #   mse_pi += (out[j][0].item()-yy[j][0].item() )**2\n",
    "          #  mse_p +=(out[j][1].item()-yy[j][1].item())**2\n",
    "\n",
    "        #)                                                                                                                                                                                                                                    \n",
    "    return mse_total/length #, np.sqrt(mse_total/length), mse_pi/length, np.sqrt(mse_pi/length), mse_p/length, np.sqrt(mse_p/length) \n",
    "\n",
    "        \n",
    "def print_out():\n",
    "    model.eval() #initailize the model                                                                                                                                                                                                        \n",
    "    #for i, data in tqdm(enumerate(train_loader)): #perhaps tqdm(enumerate(train_loader)), i is index, data jsut moves through all the dtaa in trainingg                                                                                      \n",
    "    outt= []\n",
    "    for i,data in enumerate(test_loader):\n",
    "        data = data.to(device) #switch to GPU                                                                                                                                                                                                 \n",
    "        optimizer.zero_grad() #                                                                                                                                                                                                               \n",
    "        out = model(data.x, data.edge_index, data.batch).to(device)  # Perform a single forward pass                                                                                                                                          \n",
    "        out = out.cpu()\n",
    "        #yy = []                                                                                                                                                                                                                              \n",
    "        #for j in range(0,2*len(out),2):                                                                                                                                                                                                      \n",
    "        #    fuckk = data.y[j]; fuckj = data.y[j+1]                                                                                                                                                                                           \n",
    "        #    yy +=[[fuckk.item(),fuckj.item()]]                                                                                                                                                                                               \n",
    "        #yy = torch.tensor(yy).to(device)                                                                                                                                                                                                     \n",
    "        #loss = losss(out, yy).cpu() #compute the loss                                                                                                                                                                                        \n",
    "        outt+=[[out.detach().numpy()]]\n",
    "    return outt\n",
    "\n",
    "def print_outb():\n",
    "    model.eval() #initailize the model                                                                                                                                                                                                        \n",
    "    #for i, data in tqdm(enumerate(train_loader)): #perhaps tqdm(enumerate(train_loader)), i is index, data jsut moves through all the dtaa in trainingg                                                                                      \n",
    "    outt= []\n",
    "    for i,data in enumerate(val_loader):\n",
    "        data = data.to(device) #switch to GPU                                                                                                                                                                                                 \n",
    "        optimizer.zero_grad() #                                                                                                                                                                                                               \n",
    "        out = model(data.x, data.edge_index, data.batch).to(device)  # Perform a single forward pass                                                                                                                                          \n",
    "        out = out.cpu()\n",
    "        #yy = []                                                                                                                                                                                                                              \n",
    "        #for j in range(0,2*len(out),2):                                                                                                                                                                                                      \n",
    "        #    fuckk = data.y[j]; fuckj = data.y[j+1]                                                                                                                                                                                           \n",
    "        #    yy +=[[fuckk.item(),fuckj.item()]]                                                                                                                                                                                               \n",
    "        #yy = torch.tensor(yy).to(device)                                                                                                                                                                                                     \n",
    "        #loss = losss(out, yy).cpu() #compute the loss                                                                                                                                                                                        \n",
    "        outt+=[[out.detach().numpy()]]\n",
    "    return outt\n"
   ]
  },
  {
   "cell_type": "code",
   "execution_count": 4,
   "id": "39f13072-bb69-4d01-8860-6e06378a3ae7",
   "metadata": {},
   "outputs": [
    {
     "ename": "OutOfMemoryError",
     "evalue": "CUDA out of memory. Tried to allocate 890.00 MiB. GPU ",
     "output_type": "error",
     "traceback": [
      "\u001b[0;31m---------------------------------------------------------------------------\u001b[0m",
      "\u001b[0;31mOutOfMemoryError\u001b[0m                          Traceback (most recent call last)",
      "\u001b[0;32m<ipython-input-4-aa83fed7b3b2>\u001b[0m in \u001b[0;36m<module>\u001b[0;34m\u001b[0m\n\u001b[1;32m     16\u001b[0m         \u001b[0;31m#break'''\u001b[0m\u001b[0;34m\u001b[0m\u001b[0;34m\u001b[0m\u001b[0;34m\u001b[0m\u001b[0m\n\u001b[1;32m     17\u001b[0m     \u001b[0;31m#print(\"BEFORE TRAIN()\")\u001b[0m\u001b[0;34m\u001b[0m\u001b[0;34m\u001b[0m\u001b[0;34m\u001b[0m\u001b[0m\n\u001b[0;32m---> 18\u001b[0;31m     \u001b[0mtrain\u001b[0m\u001b[0;34m(\u001b[0m\u001b[0;34m)\u001b[0m\u001b[0;34m\u001b[0m\u001b[0;34m\u001b[0m\u001b[0m\n\u001b[0m\u001b[1;32m     19\u001b[0m     \u001b[0;31m#print(\"BEFORE TEST(TRAIN_LOADER)\")\u001b[0m\u001b[0;34m\u001b[0m\u001b[0;34m\u001b[0m\u001b[0;34m\u001b[0m\u001b[0m\n\u001b[1;32m     20\u001b[0m     \u001b[0;31m#train_mse, train_rmse, train_mse_pi, train_rmse_pi, train_mse_p, train_rmse_p = test(train_loader)\u001b[0m\u001b[0;34m\u001b[0m\u001b[0;34m\u001b[0m\u001b[0;34m\u001b[0m\u001b[0m\n",
      "\u001b[0;32m<ipython-input-3-ec1adb926644>\u001b[0m in \u001b[0;36mtrain\u001b[0;34m()\u001b[0m\n\u001b[1;32m    146\u001b[0m         \u001b[0;31m#print(loss)\u001b[0m\u001b[0;34m\u001b[0m\u001b[0;34m\u001b[0m\u001b[0;34m\u001b[0m\u001b[0m\n\u001b[1;32m    147\u001b[0m         \u001b[0mloss\u001b[0m\u001b[0;34m.\u001b[0m\u001b[0mbackward\u001b[0m\u001b[0;34m(\u001b[0m\u001b[0;34m)\u001b[0m \u001b[0;31m#get the gradients.\u001b[0m\u001b[0;34m\u001b[0m\u001b[0;34m\u001b[0m\u001b[0m\n\u001b[0;32m--> 148\u001b[0;31m         \u001b[0moptimizer\u001b[0m\u001b[0;34m.\u001b[0m\u001b[0mstep\u001b[0m\u001b[0;34m(\u001b[0m\u001b[0;34m)\u001b[0m \u001b[0;31m#take a step.\u001b[0m\u001b[0;34m\u001b[0m\u001b[0;34m\u001b[0m\u001b[0m\n\u001b[0m\u001b[1;32m    149\u001b[0m \u001b[0;34m\u001b[0m\u001b[0m\n\u001b[1;32m    150\u001b[0m \u001b[0;31m#from sklearn.metrics import confusion_matrix\u001b[0m\u001b[0;34m\u001b[0m\u001b[0;34m\u001b[0m\u001b[0;34m\u001b[0m\u001b[0m\n",
      "\u001b[0;32m~/.local/lib/python3.8/site-packages/torch/optim/optimizer.py\u001b[0m in \u001b[0;36mwrapper\u001b[0;34m(*args, **kwargs)\u001b[0m\n\u001b[1;32m    389\u001b[0m                             )\n\u001b[1;32m    390\u001b[0m \u001b[0;34m\u001b[0m\u001b[0m\n\u001b[0;32m--> 391\u001b[0;31m                 \u001b[0mout\u001b[0m \u001b[0;34m=\u001b[0m \u001b[0mfunc\u001b[0m\u001b[0;34m(\u001b[0m\u001b[0;34m*\u001b[0m\u001b[0margs\u001b[0m\u001b[0;34m,\u001b[0m \u001b[0;34m**\u001b[0m\u001b[0mkwargs\u001b[0m\u001b[0;34m)\u001b[0m\u001b[0;34m\u001b[0m\u001b[0;34m\u001b[0m\u001b[0m\n\u001b[0m\u001b[1;32m    392\u001b[0m                 \u001b[0mself\u001b[0m\u001b[0;34m.\u001b[0m\u001b[0m_optimizer_step_code\u001b[0m\u001b[0;34m(\u001b[0m\u001b[0;34m)\u001b[0m\u001b[0;34m\u001b[0m\u001b[0;34m\u001b[0m\u001b[0m\n\u001b[1;32m    393\u001b[0m \u001b[0;34m\u001b[0m\u001b[0m\n",
      "\u001b[0;32m~/.local/lib/python3.8/site-packages/torch/optim/optimizer.py\u001b[0m in \u001b[0;36m_use_grad\u001b[0;34m(self, *args, **kwargs)\u001b[0m\n\u001b[1;32m     74\u001b[0m             \u001b[0mtorch\u001b[0m\u001b[0;34m.\u001b[0m\u001b[0mset_grad_enabled\u001b[0m\u001b[0;34m(\u001b[0m\u001b[0mself\u001b[0m\u001b[0;34m.\u001b[0m\u001b[0mdefaults\u001b[0m\u001b[0;34m[\u001b[0m\u001b[0;34m'differentiable'\u001b[0m\u001b[0;34m]\u001b[0m\u001b[0;34m)\u001b[0m\u001b[0;34m\u001b[0m\u001b[0;34m\u001b[0m\u001b[0m\n\u001b[1;32m     75\u001b[0m             \u001b[0mtorch\u001b[0m\u001b[0;34m.\u001b[0m\u001b[0m_dynamo\u001b[0m\u001b[0;34m.\u001b[0m\u001b[0mgraph_break\u001b[0m\u001b[0;34m(\u001b[0m\u001b[0;34m)\u001b[0m\u001b[0;34m\u001b[0m\u001b[0;34m\u001b[0m\u001b[0m\n\u001b[0;32m---> 76\u001b[0;31m             \u001b[0mret\u001b[0m \u001b[0;34m=\u001b[0m \u001b[0mfunc\u001b[0m\u001b[0;34m(\u001b[0m\u001b[0mself\u001b[0m\u001b[0;34m,\u001b[0m \u001b[0;34m*\u001b[0m\u001b[0margs\u001b[0m\u001b[0;34m,\u001b[0m \u001b[0;34m**\u001b[0m\u001b[0mkwargs\u001b[0m\u001b[0;34m)\u001b[0m\u001b[0;34m\u001b[0m\u001b[0;34m\u001b[0m\u001b[0m\n\u001b[0m\u001b[1;32m     77\u001b[0m         \u001b[0;32mfinally\u001b[0m\u001b[0;34m:\u001b[0m\u001b[0;34m\u001b[0m\u001b[0;34m\u001b[0m\u001b[0m\n\u001b[1;32m     78\u001b[0m             \u001b[0mtorch\u001b[0m\u001b[0;34m.\u001b[0m\u001b[0m_dynamo\u001b[0m\u001b[0;34m.\u001b[0m\u001b[0mgraph_break\u001b[0m\u001b[0;34m(\u001b[0m\u001b[0;34m)\u001b[0m\u001b[0;34m\u001b[0m\u001b[0;34m\u001b[0m\u001b[0m\n",
      "\u001b[0;32m~/.local/lib/python3.8/site-packages/torch/optim/adam.py\u001b[0m in \u001b[0;36mstep\u001b[0;34m(self, closure)\u001b[0m\n\u001b[1;32m    166\u001b[0m                 state_steps)\n\u001b[1;32m    167\u001b[0m \u001b[0;34m\u001b[0m\u001b[0m\n\u001b[0;32m--> 168\u001b[0;31m             adam(\n\u001b[0m\u001b[1;32m    169\u001b[0m                 \u001b[0mparams_with_grad\u001b[0m\u001b[0;34m,\u001b[0m\u001b[0;34m\u001b[0m\u001b[0;34m\u001b[0m\u001b[0m\n\u001b[1;32m    170\u001b[0m                 \u001b[0mgrads\u001b[0m\u001b[0;34m,\u001b[0m\u001b[0;34m\u001b[0m\u001b[0;34m\u001b[0m\u001b[0m\n",
      "\u001b[0;32m~/.local/lib/python3.8/site-packages/torch/optim/adam.py\u001b[0m in \u001b[0;36madam\u001b[0;34m(params, grads, exp_avgs, exp_avg_sqs, max_exp_avg_sqs, state_steps, foreach, capturable, differentiable, fused, grad_scale, found_inf, has_complex, amsgrad, beta1, beta2, lr, weight_decay, eps, maximize)\u001b[0m\n\u001b[1;32m    316\u001b[0m         \u001b[0mfunc\u001b[0m \u001b[0;34m=\u001b[0m \u001b[0m_single_tensor_adam\u001b[0m\u001b[0;34m\u001b[0m\u001b[0;34m\u001b[0m\u001b[0m\n\u001b[1;32m    317\u001b[0m \u001b[0;34m\u001b[0m\u001b[0m\n\u001b[0;32m--> 318\u001b[0;31m     func(params,\n\u001b[0m\u001b[1;32m    319\u001b[0m          \u001b[0mgrads\u001b[0m\u001b[0;34m,\u001b[0m\u001b[0;34m\u001b[0m\u001b[0;34m\u001b[0m\u001b[0m\n\u001b[1;32m    320\u001b[0m          \u001b[0mexp_avgs\u001b[0m\u001b[0;34m,\u001b[0m\u001b[0;34m\u001b[0m\u001b[0;34m\u001b[0m\u001b[0m\n",
      "\u001b[0;32m~/.local/lib/python3.8/site-packages/torch/optim/adam.py\u001b[0m in \u001b[0;36m_multi_tensor_adam\u001b[0;34m(params, grads, exp_avgs, exp_avg_sqs, max_exp_avg_sqs, state_steps, grad_scale, found_inf, amsgrad, has_complex, beta1, beta2, lr, weight_decay, eps, maximize, capturable, differentiable)\u001b[0m\n\u001b[1;32m    579\u001b[0m                 \u001b[0mexp_avg_sq_sqrt\u001b[0m \u001b[0;34m=\u001b[0m \u001b[0mtorch\u001b[0m\u001b[0;34m.\u001b[0m\u001b[0m_foreach_sqrt\u001b[0m\u001b[0;34m(\u001b[0m\u001b[0mdevice_max_exp_avg_sqs\u001b[0m\u001b[0;34m)\u001b[0m\u001b[0;34m\u001b[0m\u001b[0;34m\u001b[0m\u001b[0m\n\u001b[1;32m    580\u001b[0m             \u001b[0;32melse\u001b[0m\u001b[0;34m:\u001b[0m\u001b[0;34m\u001b[0m\u001b[0;34m\u001b[0m\u001b[0m\n\u001b[0;32m--> 581\u001b[0;31m                 \u001b[0mexp_avg_sq_sqrt\u001b[0m \u001b[0;34m=\u001b[0m \u001b[0mtorch\u001b[0m\u001b[0;34m.\u001b[0m\u001b[0m_foreach_sqrt\u001b[0m\u001b[0;34m(\u001b[0m\u001b[0mdevice_exp_avg_sqs\u001b[0m\u001b[0;34m)\u001b[0m\u001b[0;34m\u001b[0m\u001b[0;34m\u001b[0m\u001b[0m\n\u001b[0m\u001b[1;32m    582\u001b[0m \u001b[0;34m\u001b[0m\u001b[0m\n\u001b[1;32m    583\u001b[0m             \u001b[0mtorch\u001b[0m\u001b[0;34m.\u001b[0m\u001b[0m_foreach_div_\u001b[0m\u001b[0;34m(\u001b[0m\u001b[0mexp_avg_sq_sqrt\u001b[0m\u001b[0;34m,\u001b[0m \u001b[0mbias_correction2_sqrt\u001b[0m\u001b[0;34m)\u001b[0m\u001b[0;34m\u001b[0m\u001b[0;34m\u001b[0m\u001b[0m\n",
      "\u001b[0;31mOutOfMemoryError\u001b[0m: CUDA out of memory. Tried to allocate 890.00 MiB. GPU "
     ]
    }
   ],
   "source": [
    "nepochs =  4\n",
    "train_metrics = {'mse':[], \"rmse\":[], 'mse_pi':[], 'rmse_pi':[], 'mse_p':[], 'rmse_p':[] } \n",
    "vall_metrics = {'mse':[], \"rmse\":[], 'mse_pi':[], 'rmse_pi':[], 'mse_p':[], 'rmse_p':[] }\n",
    "\n",
    "for epoch in range(nepochs):  \n",
    "    '''\n",
    "    if epoch ==(nepochs-1):\n",
    "        model.eval()\n",
    "        outt = []\n",
    "        for i, data in enumerate(train_loader):\n",
    "            data = data.to(device) \n",
    "            out = model(data.x, data.edge_index, data.batch).to(device)\n",
    "            out = out.cpu()\n",
    "            outt+=[[out.detach().numpy()]]\n",
    "        #print(outt)\n",
    "        #break'''\n",
    "    #print(\"BEFORE TRAIN()\")                                                                                                                                                                                                                  \n",
    "    train()\n",
    "    #print(\"BEFORE TEST(TRAIN_LOADER)\")                                                                                                                                                                                                       \n",
    "    #train_mse, train_rmse, train_mse_pi, train_rmse_pi, train_mse_p, train_rmse_p = test(train_loader)\n",
    "    train_mse = test(train_loader)\n",
    "\n",
    "    train_metrics['mse'].append(train_mse) \n",
    "    #train_metrics['rmse'].append(train_rmse)\n",
    "    #train_metrics['mse_pi'].append(train_mse_pi)\n",
    "    #train_metrics['rmse_pi'].append(train_rmse_pi)\n",
    "    #train_metrics['mse_p'].append(train_mse_p)\n",
    "    #train_metrics['rmse_p'].append(train_rmse_p)\n",
    "\n",
    "    #print(\"BEFORE TEST(VAL_LOADER)\")                                                                                                                                                                                                         \n",
    "    #vall_mse, vall_rmse, vall_mse_pi, vall_rmse_pi, vall_mse_p, vall_rmse_p = test(val_loader)\n",
    "    vall_mse =test(val_loader) \n",
    "    #if epoch==0 or val_roc_auc >np.max(val_metrics[\"roc_auc\"]) :                                                                                                                                                                             \n",
    "    #    model_best_auc = model                                                                                                                                                                                                               \n",
    "    #    PATH = '/work/clas12/users/mfmce/CLAS12_Lambda_resolution_REU_2023/model_best_auc.pt'                                                                                                                                                \n",
    "    #    torch.save({                                                                                                                                                                                                                         \n",
    "    #        'epoch': epoch,                                                                                                                                                                                                                  \n",
    "    #        'model_state_dict': model.state_dict(),                                                                                                                                                                                          \n",
    "    #        'optimizer_state_dict': optimizer.state_dict(),                                                                                                                                                                                  \n",
    " #             'loss': loss,                                                                                                                                                                                                                  \n",
    "    #        }, PATH)                                                                                                                                                                                                                         \n",
    "\n",
    "    vall_metrics['mse'].append(vall_mse)\n",
    "    #vall_metrics['rmse'].append(vall_rmse)\n",
    "    #vall_metrics['mse_pi'].append(vall_mse)\n",
    "    #vall_metrics['rmse_pi'].append(vall_mse)\n",
    "    #vall_metrics['mse_p'].append(vall_mse)\n",
    "    #all_metrics['rmse_p'].append(vall_mse)\n",
    "    if epoch%9==0:\n",
    "        print(\"Epoch \",epoch,\" Train mse: \",train_mse)\n",
    "        print(\"Epoch \",epoch,\" Validation mse: \",vall_mse)\n",
    "        #print(\"Epoch \",epoch,\" Train mse: \",train_mse,\" Train rmse: \",train_rmse,\" Train mse pion: \",train_mse_pi,\n",
    "         #     \" Train rmse pion: \",train_rmse_pi, \"Train mse proton:\",train_mse_p, \"Train rmse proton:\",train_rmse_p)\n",
    "        #print(\"Epoch \",epoch,\" Validation mse: \",vall_mse,\" Validation rmse: \",vall_rmse,\" Validation mse pion: \",vall_mse_pi,\n",
    "        #      \" Validation rmse pion: \",vall_rmse_pi, \"Validation mse proton:\",vall_mse_p, \"Validation rmse proton:\", vall_rmse_p)\n",
    "    if epoch==(nepochs-1):\n",
    "        a = print_out()\n",
    "        print(\"Epoch \",epoch,\" Train mse: \",train_mse)\n",
    "        print(\"Epoch \",epoch,\" Validation mse: \",vall_mse)\n",
    "        #print(\"Epoch \",epoch,\" Train mse: \",train_mse,\" Train rmse: \",train_rmse,\" Train mse pion: \",train_mse_pi,\n",
    "        #      \" Train rmse pion: \",train_rmse_pi, \"Train mse proton:\",train_mse_p, \"Train rmse proton:\",train_rmse_p)\n",
    "        #print(\"Epoch \",epoch,\" Validation mse: \",vall_mse,\" Validation rmse: \",vall_rmse,\" Validation mse pion: \",vall_mse_pi,\n",
    "        #      \" Validation rmse pion: \",vall_rmse_pi, \"Validation mse proton:\",vall_mse_p, \"Validation rmse proton:\", vall_rmse_p) \n",
    "\n",
    "        #print(a)\n",
    "        #b = print_outb()\n",
    "import matplotlib.pyplot as plt \n",
    "\n",
    "epochs = [i for i in range(len(train_metrics[\"mse\"]))]  \n",
    "plt.figure()\n",
    "plt.title('Training epoch vs. MSE') \n",
    "plt.plot(epochs, train_metrics['mse']) \n",
    "plt.xlabel('epoch')\n",
    "plt.ylabel('MSE')\n",
    "\n",
    "\n",
    "plt.title('Validation epoch vs. MSE')   \n",
    "plt.plot(epochs, vall_metrics['mse']) \n",
    "plt.xlabel('epoch') \n",
    "plt.ylabel('MSE')  "
   ]
  },
  {
   "cell_type": "code",
   "execution_count": null,
   "id": "085f8193-d449-4d95-9007-b74544239d1c",
   "metadata": {},
   "outputs": [],
   "source": []
  },
  {
   "cell_type": "code",
   "execution_count": 5,
   "id": "0a7ffd45-d62c-4050-ad8e-a033c70a0300",
   "metadata": {},
   "outputs": [
    {
     "data": {
      "text/plain": [
       "Text(0.5, 0, 'Location of Pion vertex (cm)')"
      ]
     },
     "execution_count": 5,
     "metadata": {},
     "output_type": "execute_result"
    },
    {
     "data": {
      "image/png": "[encoded data removed]",
      "text/plain": [
       "<Figure size 432x288 with 1 Axes>"
      ]
     },
     "metadata": {
      "needs_background": "light"
     },
     "output_type": "display_data"
    }
   ],
   "source": [
    "pi_x = []; p_x = [] \n",
    "#pi_val = []\n",
    "for i in range(len(a)):\n",
    "    for j in range(len(a[i][0])): \n",
    "        pi_x.append(a[i][0][j][0].item())\n",
    "        \n",
    "        #p_x.append(a[i][0][j][1].item()) \n",
    "\n",
    "pi_yy = [] \n",
    "#p_yy = []\n",
    "\n",
    "pi_rec_y = []\n",
    "#p_rec_y = []\n",
    "for i, data in enumerate(test_loader):\n",
    "    data = data#.to(device) #put to GPU\n",
    "    #break\n",
    "    for j in range(0,int(len(data.y))): \n",
    "        pi_yy.append(data.y[j].item())\n",
    " #       p_yy.append(data.y[j+1].item())\n",
    "\n",
    "        #pi_rec_y.append(data.rec[j].item()) \n",
    "       # p_rec_y.append(data.rec[j+1].item())\n",
    "    for j in range(len(data.rec)):\n",
    "        #pi_rec_y.append(data.rec[j][0][0])\n",
    "        pi_rec_y.append(data.rec[j][0])\n",
    "       # p_rec_y.append(data.rec[j][0][1])\n",
    "\n",
    "\n",
    "#plott_pi = np.zeros((len(pi_x),4))\n",
    "#plott_p = np.zeros((len(p_x),2)) \n",
    "plott_pi = np.zeros((len(pi_x),3))\n",
    "for i in range(len(pi_x)):\n",
    "#for i in range(982):\n",
    "    plott_pi[i][0] = pi_yy[i]\n",
    "    plott_pi[i][1] = pi_x[i]\n",
    "    #plott_pi[i][3] = pi_val[i]\n",
    "   # plott_pi[i][2] = pi_rec_y[i] \n",
    "   # plott_p[i][0] = p_yy[i]\n",
    "   # plott_p[i][1] = p_x[i]\n",
    "    #plott_p[i][2]  = p_rec_y[i] \n",
    "for i in range(len(pi_rec_y)): \n",
    "    plott_pi[i][2] = pi_rec_y[i] \n",
    "#plott_pi \n",
    "plt.figure\n",
    "plt.title('location of Pion vertex') \n",
    "#plt.axvline(x = np.mean(pi_x), color = 'blue')\n",
    "#plt.axvline(x = np.mean(pi_yy), color = 'orange') \n",
    "plt.hist(x = plott_pi, histtype ='step', color = ['orange', 'blue', 'green'], bins = 500 )\n",
    "plt.legend(['Predicted', 'True', 'REC']) \n",
    "plt.xlim((-8,2)) \n",
    "plt.ylabel('count')\n",
    "plt.xlabel('Location of Pion vertex (cm)')\n",
    "#plt.savefig(\"/hpc/volatile/group/vossenlab/dir_name_2/\")\n",
    "#plt.savefig(\"output.pdf\")\n",
    "#plt.hist(x = plott_pi, histtype ='bar', color = ['orange', 'blue'], bins = 30)"
   ]
  },
  {
   "cell_type": "code",
   "execution_count": null,
   "id": "bb4a61a9-f2e8-4ba5-9159-e9c75160ac00",
   "metadata": {},
   "outputs": [],
   "source": []
  },
  {
   "cell_type": "code",
   "execution_count": 6,
   "id": "53348753-4c64-4318-ad5c-2e99ba6aafb3",
   "metadata": {},
   "outputs": [
    {
     "name": "stdout",
     "output_type": "stream",
     "text": [
      "KstestResult(statistic=0.10734149054505006, pvalue=1.9451328216517213e-09)\n",
      "KstestResult(statistic=0.14238042269187987, pvalue=2.641105884789969e-16)\n"
     ]
    }
   ],
   "source": [
    "from scipy.stats import kstest   \n",
    "print(kstest(pi_x, pi_yy)) \n",
    "print(kstest(pi_rec_y, pi_yy))   "
   ]
  },
  {
   "cell_type": "code",
   "execution_count": 7,
   "id": "5c974326-ca1c-4a3f-a698-7b064a59e8f9",
   "metadata": {},
   "outputs": [
    {
     "name": "stdout",
     "output_type": "stream",
     "text": [
      "1.3686439970775495\n",
      "3.4915162663048527\n"
     ]
    }
   ],
   "source": [
    "diff_x = [] \n",
    "diff_rec = []\n",
    "for i in range(len(pi_x)):\n",
    "    diff_x.append(np.sqrt((pi_x[i]-pi_yy[i])**2))\n",
    "    diff_rec.append(np.sqrt((pi_rec_y[i]-pi_yy[i])**2))\n",
    "print(np.mean(diff_x)) \n",
    "print(np.mean(diff_rec)) "
   ]
  },
  {
   "cell_type": "code",
   "execution_count": 8,
   "id": "8cd363cb-7e5b-4cf3-b26a-75339483f98a",
   "metadata": {},
   "outputs": [
    {
     "name": "stdout",
     "output_type": "stream",
     "text": [
      "-0.36746376726332974\n",
      "3.990648341098553\n"
     ]
    },
    {
     "data": {
      "text/plain": [
       "\"\\nfrom statistics import NormalDist\\nnorm = NormalDist.from_samples(dif_x)\\nprint(norm.mean)\\nprint(norm.stdev)\\ndef gauss(x):  \\n    sigma = norm.stdev\\n    x0 = norm.mean \\n    return 2000*1/(np.sqrt(2*np.pi)* (sigma)) * np.exp(-(x - x0) ** 2 / (2 * sigma ** 2))\\nxxx = np.linspace(-20, 20, 10000)\\nplt.plot(xxx, gauss(xxx), color = 'purple')\""
      ]
     },
     "execution_count": 8,
     "metadata": {},
     "output_type": "execute_result"
    },
    {
     "data": {
      "image/png": "[encoded data removed]",
      "text/plain": [
       "<Figure size 432x288 with 1 Axes>"
      ]
     },
     "metadata": {
      "needs_background": "light"
     },
     "output_type": "display_data"
    }
   ],
   "source": [
    "dif_x = [] \n",
    "dif_rec = []\n",
    "for i in range(len(pi_x)):\n",
    "    dif_x.append((pi_x[i]-pi_yy[i]))\n",
    "    dif_rec.append((pi_rec_y[i]-pi_yy[i]))\n",
    "\n",
    "plottt = np.zeros((len(dif_x), 2)) \n",
    "for i in range(len(dif_x)):\n",
    "    plottt[i][0] = dif_x[i]\n",
    "    plottt[i][1] = dif_rec[i]\n",
    "\n",
    "plt.title('Event by event error')\n",
    "n, bins = plt.hist(x = plottt, histtype = 'step', color = ['blue', 'orange'], bins = 500)[-1]\n",
    "plt.legend(['REC', 'Predicted'])\n",
    "plt.ylabel('count')\n",
    "plt.xlabel('error')\n",
    "\n",
    "plt.xlim((-20, 20)) \n",
    "from scipy.stats import norm as nm\n",
    "\n",
    "from statistics import NormalDist\n",
    "norm = NormalDist.from_samples(dif_x)\n",
    "print(norm.mean) \n",
    "print(norm.stdev)\n",
    "xxx = np.linspace(-20, 20, 100)\n",
    "#plt.plot(xxx, n*nm.pdf(xxx,  norm.mean, norm.stdev), color = \"purple\")\n",
    "'''\n",
    "from statistics import NormalDist\n",
    "norm = NormalDist.from_samples(dif_x)\n",
    "print(norm.mean)\n",
    "print(norm.stdev)\n",
    "def gauss(x):  \n",
    "    sigma = norm.stdev\n",
    "    x0 = norm.mean \n",
    "    return 2000*1/(np.sqrt(2*np.pi)* (sigma)) * np.exp(-(x - x0) ** 2 / (2 * sigma ** 2))\n",
    "xxx = np.linspace(-20, 20, 10000)\n",
    "plt.plot(xxx, gauss(xxx), color = 'purple')'''"
   ]
  },
  {
   "cell_type": "code",
   "execution_count": 33,
   "id": "a3ba6b9f-e593-408c-8d55-a4b0e6d1f702",
   "metadata": {},
   "outputs": [
    {
     "name": "stdout",
     "output_type": "stream",
     "text": [
      "[268.51428217   0.62482895   1.17180571]\n"
     ]
    }
   ],
   "source": [
    "#bb= plt.hist(x = plottt, histtype = 'step', color = ['blue', 'orange'], bins = 500)\n",
    "#print(bb[0][0])\n",
    "\n",
    "pred_values= np.zeros(len(bb[0][0]))\n",
    "rec_values = np.zeros(len(bb[0][0]))\n",
    "xx = np.zeros(len(bb[1]))\n",
    "for i in range(len(bb[0][0])):\n",
    "    pred_values[i] = bb[0][0][i]\n",
    "    rec_values[i] = bb[0][1][i]\n",
    "    xx[i] = bb[1][i]\n",
    "\n",
    "#np.histogram(plottt, bins = 500)\n",
    "\n",
    "from scipy.optimize import curve_fit \n",
    "#n, bins, patches = plt.hist(dif_x, bins = 100)\n",
    "def gauss(x,  A, x0, sigma): \n",
    "    return A * np.exp(-(x - x0) ** 2 / (2 * sigma ** 2))\n",
    "\n",
    "xx = np.delete(xx, 0)\n",
    "parameters, covariance = curve_fit(gauss, xx, pred_values )\n",
    "print(parameters) "
   ]
  },
  {
   "cell_type": "code",
   "execution_count": 38,
   "id": "eb6433b7-eda8-4c31-85d3-36c80177b287",
   "metadata": {},
   "outputs": [
    {
     "data": {
      "text/plain": [
       "(-20.0, 20.0)"
      ]
     },
     "execution_count": 38,
     "metadata": {},
     "output_type": "execute_result"
    },
    {
     "data": {
      "image/png": "[encoded data removed]",
      "text/plain": [
       "<Figure size 432x288 with 1 Axes>"
      ]
     },
     "metadata": {
      "needs_background": "light"
     },
     "output_type": "display_data"
    }
   ],
   "source": [
    " plt.hist(x = plottt, histtype = 'step', color = ['blue', 'orange'], bins = 500)\n",
    "\n",
    "def gauss(x ): \n",
    "    A = 268; x0 =.625; sigma =1.17\n",
    "    return A * np.exp(-(x - x0) ** 2 / (2 * sigma ** 2))\n",
    "xx = np.delete(xx, -1)\n",
    "plt.plot( xx, gauss(xx), color = 'purple') \n",
    "\n",
    "plt.xlim((-20, 20))  "
   ]
  },
  {
   "cell_type": "code",
   "execution_count": null,
   "id": "4eee555b-23cb-4701-932a-8d8c79649f0a",
   "metadata": {},
   "outputs": [],
   "source": []
  },
  {
   "cell_type": "code",
   "execution_count": 21,
   "id": "7931ac60-3432-41e2-8d41-5f446bb011e5",
   "metadata": {},
   "outputs": [
    {
     "name": "stdout",
     "output_type": "stream",
     "text": [
      "-0.32635984654011035\n",
      "3.2689757119308345\n"
     ]
    }
   ],
   "source": [
    "from statistics import NormalDist\n",
    "norm = NormalDist.from_samples(dif_x)\n",
    "print(norm.mean)\n",
    "print(norm.stdev)"
   ]
  },
  {
   "cell_type": "code",
   "execution_count": 23,
   "id": "16b18115-6d6b-4c22-9190-66c00d9af3d5",
   "metadata": {},
   "outputs": [
    {
     "name": "stdout",
     "output_type": "stream",
     "text": [
      "-0.6820248936968188\n",
      "12.549098534399896\n"
     ]
    }
   ],
   "source": [
    "from statistics import NormalDist\n",
    "norm = NormalDist.from_samples(dif_rec)\n",
    "print(norm.mean)\n",
    "print(norm.stdev)"
   ]
  },
  {
   "cell_type": "code",
   "execution_count": null,
   "id": "d6b100c0-7cd2-4375-be3d-302e3406727f",
   "metadata": {},
   "outputs": [],
   "source": [
    "output.pdf, output.pdf,newa_loss_1.ipynb"
   ]
  },
  {
   "cell_type": "code",
   "execution_count": 10,
   "id": "0cd851f3-06f8-4854-ae7d-18f527fbec54",
   "metadata": {},
   "outputs": [
    {
     "ename": "RuntimeError",
     "evalue": "Optimal parameters not found: Number of calls to function has reached maxfev = 800.",
     "output_type": "error",
     "traceback": [
      "\u001b[0;31m---------------------------------------------------------------------------\u001b[0m",
      "\u001b[0;31mRuntimeError\u001b[0m                              Traceback (most recent call last)",
      "\u001b[0;32m<ipython-input-10-31f7d7ac0988>\u001b[0m in \u001b[0;36m<module>\u001b[0;34m\u001b[0m\n\u001b[1;32m      5\u001b[0m \u001b[0;34m\u001b[0m\u001b[0m\n\u001b[1;32m      6\u001b[0m \u001b[0mbins\u001b[0m \u001b[0;34m=\u001b[0m \u001b[0mnp\u001b[0m\u001b[0;34m.\u001b[0m\u001b[0mdelete\u001b[0m\u001b[0;34m(\u001b[0m\u001b[0mbins\u001b[0m\u001b[0;34m,\u001b[0m \u001b[0;36m0\u001b[0m\u001b[0;34m)\u001b[0m\u001b[0;34m\u001b[0m\u001b[0;34m\u001b[0m\u001b[0m\n\u001b[0;32m----> 7\u001b[0;31m \u001b[0mparameters\u001b[0m\u001b[0;34m,\u001b[0m \u001b[0mcovariance\u001b[0m \u001b[0;34m=\u001b[0m \u001b[0mcurve_fit\u001b[0m\u001b[0;34m(\u001b[0m\u001b[0mgauss\u001b[0m\u001b[0;34m,\u001b[0m \u001b[0mbins\u001b[0m\u001b[0;34m,\u001b[0m \u001b[0mn\u001b[0m\u001b[0;34m)\u001b[0m\u001b[0;34m\u001b[0m\u001b[0;34m\u001b[0m\u001b[0m\n\u001b[0m\u001b[1;32m      8\u001b[0m \u001b[0;31m#parameters, covariance = curve_fit(gauss, xdata, ydata)\u001b[0m\u001b[0;34m\u001b[0m\u001b[0;34m\u001b[0m\u001b[0;34m\u001b[0m\u001b[0m\n\u001b[1;32m      9\u001b[0m \u001b[0mprint\u001b[0m\u001b[0;34m(\u001b[0m\u001b[0mparameters\u001b[0m\u001b[0;34m)\u001b[0m\u001b[0;34m\u001b[0m\u001b[0;34m\u001b[0m\u001b[0m\n",
      "\u001b[0;32m/opt/apps/rhel8/Anaconda3-2021.05/lib/python3.8/site-packages/scipy/optimize/minpack.py\u001b[0m in \u001b[0;36mcurve_fit\u001b[0;34m(f, xdata, ydata, p0, sigma, absolute_sigma, check_finite, bounds, method, jac, **kwargs)\u001b[0m\n\u001b[1;32m    787\u001b[0m         \u001b[0mcost\u001b[0m \u001b[0;34m=\u001b[0m \u001b[0mnp\u001b[0m\u001b[0;34m.\u001b[0m\u001b[0msum\u001b[0m\u001b[0;34m(\u001b[0m\u001b[0minfodict\u001b[0m\u001b[0;34m[\u001b[0m\u001b[0;34m'fvec'\u001b[0m\u001b[0;34m]\u001b[0m \u001b[0;34m**\u001b[0m \u001b[0;36m2\u001b[0m\u001b[0;34m)\u001b[0m\u001b[0;34m\u001b[0m\u001b[0;34m\u001b[0m\u001b[0m\n\u001b[1;32m    788\u001b[0m         \u001b[0;32mif\u001b[0m \u001b[0mier\u001b[0m \u001b[0;32mnot\u001b[0m \u001b[0;32min\u001b[0m \u001b[0;34m[\u001b[0m\u001b[0;36m1\u001b[0m\u001b[0;34m,\u001b[0m \u001b[0;36m2\u001b[0m\u001b[0;34m,\u001b[0m \u001b[0;36m3\u001b[0m\u001b[0;34m,\u001b[0m \u001b[0;36m4\u001b[0m\u001b[0;34m]\u001b[0m\u001b[0;34m:\u001b[0m\u001b[0;34m\u001b[0m\u001b[0;34m\u001b[0m\u001b[0m\n\u001b[0;32m--> 789\u001b[0;31m             \u001b[0;32mraise\u001b[0m \u001b[0mRuntimeError\u001b[0m\u001b[0;34m(\u001b[0m\u001b[0;34m\"Optimal parameters not found: \"\u001b[0m \u001b[0;34m+\u001b[0m \u001b[0merrmsg\u001b[0m\u001b[0;34m)\u001b[0m\u001b[0;34m\u001b[0m\u001b[0;34m\u001b[0m\u001b[0m\n\u001b[0m\u001b[1;32m    790\u001b[0m     \u001b[0;32melse\u001b[0m\u001b[0;34m:\u001b[0m\u001b[0;34m\u001b[0m\u001b[0;34m\u001b[0m\u001b[0m\n\u001b[1;32m    791\u001b[0m         \u001b[0;31m# Rename maxfev (leastsq) to max_nfev (least_squares), if specified.\u001b[0m\u001b[0;34m\u001b[0m\u001b[0;34m\u001b[0m\u001b[0;34m\u001b[0m\u001b[0m\n",
      "\u001b[0;31mRuntimeError\u001b[0m: Optimal parameters not found: Number of calls to function has reached maxfev = 800."
     ]
    },
    {
     "data": {
      "image/png": "[encoded data removed]",
      "text/plain": [
       "<Figure size 432x288 with 1 Axes>"
      ]
     },
     "metadata": {
      "needs_background": "light"
     },
     "output_type": "display_data"
    }
   ],
   "source": [
    "from scipy.optimize import curve_fit\n",
    "n, bins, patches = plt.hist(dif_x, bins = 100)\n",
    "def gauss(x,  A, x0, sigma): \n",
    "    return A * np.exp(-(x - x0) ** 2 / (2 * sigma ** 2))\n",
    "\n",
    "bins = np.delete(bins, 0)\n",
    "parameters, covariance = curve_fit(gauss, bins, n) \n",
    "#parameters, covariance = curve_fit(gauss, xdata, ydata) \n",
    "print(parameters)\n",
    "#add this to the graph. "
   ]
  },
  {
   "cell_type": "code",
   "execution_count": null,
   "id": "479f6e43-dd55-4063-a228-6c22415115d1",
   "metadata": {},
   "outputs": [],
   "source": []
  },
  {
   "cell_type": "code",
   "execution_count": null,
   "id": "63ab2b30-a520-46e4-8c27-1de0680bdea7",
   "metadata": {},
   "outputs": [],
   "source": []
  },
  {
   "cell_type": "code",
   "execution_count": null,
   "id": "56d0cf6a-e257-45cc-a0d1-3e32e7a0e90b",
   "metadata": {},
   "outputs": [],
   "source": []
  },
  {
   "cell_type": "code",
   "execution_count": 29,
   "id": "663136f3-03d0-487a-91c0-6641ab262094",
   "metadata": {},
   "outputs": [
    {
     "name": "stdout",
     "output_type": "stream",
     "text": [
      "KstestResult(statistic=0.14219653179190753, pvalue=1.153662308029759e-15)\n",
      "KstestResult(statistic=0.14277456647398845, pvalue=8.659761583794448e-16)\n",
      "0.9527417514193265\n",
      "3.197049470680907\n"
     ]
    },
    {
     "data": {
      "image/png": "[encoded data removed]",
      "text/plain": [
       "<Figure size 432x288 with 1 Axes>"
      ]
     },
     "metadata": {
      "needs_background": "light"
     },
     "output_type": "display_data"
    }
   ],
   "source": [
    "pi_x = []; p_x = [] \n",
    "pi_yy = [] ; pi_rec_y = []\n",
    "#for i in range(len(a)):\n",
    " #   for j in range(len(a[i][0])): \n",
    "  #      pi_x.append(a[i][0][j][0].item())\n",
    "        #p_x.append(a[i][0][j][1].item()) \n",
    "\n",
    "\n",
    "for i, data in enumerate(test_loader):\n",
    "    data = data#.to(device) #put to GPU \n",
    "    #break\n",
    "    for j in range(0,int(len(data.y))):\n",
    "        #if (data.y[j].item()>-10 and data.y[j].item()<4):\n",
    "        if (data.y[j].item()>-6 and data.y[j].item()<0):\n",
    "            pi_x.append(a[i][0][j][0].item())\n",
    "            pi_yy.append(data.y[j].item())\n",
    "            pi_rec_y.append(data.rec[j][0])      \n",
    "\n",
    "#for i, data in enumerate(test_loader):\n",
    " #   data = data#.to(device) #put to GPU\n",
    "    #break\n",
    "  #  for j in range(len(a[i][0])): \n",
    "   #     pi_x.append(a[i][0][j][0].item())\n",
    "    #for j in range(0,int(len(data.y))):  \n",
    "     #   pi_yy.append(data.y[j].item())\n",
    "    #for j in range(len(data.rec)): \n",
    "\n",
    "     #   pi_rec_y.append(data.rec[j][0])\n",
    "\n",
    "\n",
    "plott_pi = np.zeros((len(pi_x),3))\n",
    "#plott_p = np.zeros((len(p_x),2)) \n",
    "for i in range(len(pi_x)):\n",
    "    plott_pi[i][0] = pi_yy[i]\n",
    "    plott_pi[i][1] = pi_x[i]\n",
    "for i in range(len(pi_rec_y)): \n",
    "    plott_pi[i][2] = pi_rec_y[i]\n",
    "#plott_pi \n",
    "plt.figure\n",
    "plt.title('Expected (orange) vs predicted (blue) of Pion momnetum ') \n",
    "plt.axvline(x = np.mean(pi_x), color = 'blue')\n",
    "plt.axvline(x = np.mean(pi_yy), color = 'orange')\n",
    "plt.hist(x = plott_pi, histtype ='step', color = ['orange', 'blue', 'green'], bins = 500)\n",
    "plt.xlim((-8,2))\n",
    "#plt.hist(x = plott_pi, histtype ='bar', color = ['orange', 'blue'], bins = 30)\n",
    "\n",
    "from scipy.stats import kstest   \n",
    "print(kstest(pi_x, pi_yy)) \n",
    "print(kstest(pi_rec_y, pi_yy)) \n",
    "\n",
    "diff_x = []\n",
    "diff_rec = []\n",
    "for i in range(len(pi_x)):\n",
    "    diff_x.append(np.sqrt((pi_x[i]-pi_yy[i])**2))\n",
    "    diff_rec.append(np.sqrt((pi_rec_y[i]-pi_yy[i])**2))\n",
    "print(np.mean(diff_x)) \n",
    "print(np.mean(diff_rec))"
   ]
  },
  {
   "cell_type": "code",
   "execution_count": 30,
   "id": "c94f3b57-97da-452b-8802-54ecf6ed5d76",
   "metadata": {},
   "outputs": [
    {
     "name": "stdout",
     "output_type": "stream",
     "text": [
      "0.9527417514193265\n",
      "0.8140166264144477\n",
      "3.197049470680907\n",
      "11.516195209822873\n"
     ]
    }
   ],
   "source": [
    "from statistics import NormalDist\n",
    "norm = NormalDist.from_samples(diff_x)\n",
    "print(norm.mean)\n",
    "print(norm.stdev)\n",
    "\n",
    "norm = NormalDist.from_samples(diff_rec)\n",
    "print(norm.mean)\n",
    "print(norm.stdev)"
   ]
  },
  {
   "cell_type": "code",
   "execution_count": null,
   "id": "000a9a54-1876-4ef3-bcf2-7cb811a87dce",
   "metadata": {},
   "outputs": [],
   "source": []
  },
  {
   "cell_type": "code",
   "execution_count": 26,
   "id": "81665e49-5274-48d1-9b08-1231f3264afb",
   "metadata": {},
   "outputs": [
    {
     "name": "stdout",
     "output_type": "stream",
     "text": [
      "KstestResult(statistic=0.08439306358381503, pvalue=8.812541686876703e-06)\n",
      "KstestResult(statistic=0.14277456647398845, pvalue=8.659761583794448e-16)\n",
      "1.9242778809267866\n",
      "3.197049470680907\n"
     ]
    },
    {
     "data": {
      "image/png": "[encoded data removed]",
      "text/plain": [
       "<Figure size 432x288 with 1 Axes>"
      ]
     },
     "metadata": {
      "needs_background": "light"
     },
     "output_type": "display_data"
    }
   ],
   "source": [
    "ave =np.zeros(len(pi_x))\n",
    "for i in range(len(pi_x)): \n",
    "    ave[i] = ( pi_x[i]+pi_rec_y[i])/2\n",
    "    #ave[i] = ( 13*pi_x[i]+15*pi_rec_y[i])/28\n",
    "\n",
    "plott_pi = np.zeros((len(pi_x),3))\n",
    "#plott_p = np.zeros((len(p_x),2)) \n",
    "for i in range(len(pi_x)):\n",
    "    plott_pi[i][0] = pi_yy[i]\n",
    "    plott_pi[i][1] = ave[i]\n",
    "for i in range(len(pi_rec_y)): \n",
    "    plott_pi[i][2] = pi_rec_y[i]\n",
    "#plott_pi \n",
    "plt.figure\n",
    "plt.title('Expected (orange) vs predicted (blue) vs reconstructed (green) of Pion z vertex ') \n",
    "plt.axvline(x = np.mean(pi_x), color = 'blue')\n",
    "plt.axvline(x = np.mean(pi_yy), color = 'orange')\n",
    "plt.hist(x = plott_pi, histtype ='step', color = ['orange', 'blue', 'green'], bins = 500)\n",
    "plt.xlim((-8,2))\n",
    "#plt.hist(x = plott_pi, histtype ='bar', color = ['orange', 'blue'], bins = 30)\n",
    "\n",
    "from scipy.stats import kstest    \n",
    "print(kstest(ave, pi_yy)) \n",
    "print(kstest(pi_rec_y, pi_yy)) \n",
    "\n",
    "diff_x = []\n",
    "diff_rec = []\n",
    "for i in range(len(pi_x)):\n",
    "    diff_x.append(np.sqrt((ave[i]-pi_yy[i])**2) )\n",
    "    diff_rec.append(np.sqrt((pi_rec_y[i]-pi_yy[i])**2))\n",
    "print(np.mean(diff_x)) \n",
    "print(np.mean(diff_rec))"
   ]
  },
  {
   "cell_type": "code",
   "execution_count": 28,
   "id": "90994412-9a21-4789-8af4-0aa627326619",
   "metadata": {},
   "outputs": [
    {
     "name": "stdout",
     "output_type": "stream",
     "text": [
      "-3.1373992125530172\n",
      "6.169942356246298\n"
     ]
    }
   ],
   "source": [
    "from statistics import NormalDist\n",
    "norm = NormalDist.from_samples(ave)\n",
    "print(norm.mean)\n",
    "print(norm.stdev)"
   ]
  },
  {
   "cell_type": "code",
   "execution_count": null,
   "id": "48ed99f5-2e46-4e4b-a7bb-aed53e333ab6",
   "metadata": {},
   "outputs": [],
   "source": []
  },
  {
   "cell_type": "code",
   "execution_count": null,
   "id": "13769e98-c5bb-4ce4-bddf-1d545ab4a222",
   "metadata": {},
   "outputs": [],
   "source": [
    "12640734 \n",
    "48 epcohs\n",
    "rmse for predicted\n",
    "1.1334427599013017\n",
    "rmse for rec\n",
    "3.377376551708793\n",
    "\n",
    "predicted mean\n",
    "-0.35554104013051485\n",
    "\n",
    "predicted stdev\n",
    "2.881354094420968\n",
    "\n",
    "rec mean\n",
    "-0.5362852450565863\n",
    "\n",
    "rec stdev\n",
    "11.56000174861259\n",
    "\n",
    "\n",
    "\n",
    "\n",
    "101 epochs 12688717 8\n",
    "kstate for predicted\n",
    "KstestResult(statistic=0.1218020022246941, pvalue=4.906942453972637e-12)\n",
    "\n",
    "kstate for rec\n",
    "KstestResult(statistic=0.15628476084538376, pvalue=1.4305569344282814e-19)\n",
    "\n",
    "rmse for predicted \n",
    "1.1888012845619262\n",
    "rmse for rec\n",
    "3.3634249032915333\n",
    "\n",
    "predicted mean\n",
    "-0.12093904057675113\n",
    "\n",
    "predicted stdev\n",
    "3.2278434804750775\n",
    "\n",
    "rec mean\n",
    "-0.8662942886110125 \n",
    "rmse for predicted\n",
    "1.1888012845619262\n",
    "rmse for rec\n",
    "3.3634249032915333\n",
    "\n",
    "predicted mean\n",
    "-0.12093904057675113\n",
    "\n",
    "predicted stdev\n",
    "3.2278434804750775\n",
    "\n",
    "rec mean\n",
    "-0.8662942886110125\n",
    "\n",
    "rec stdev\n",
    "11.793011815081663\n",
    "\n",
    "\n",
    "48, 30000 dataset, 12688991\n",
    "kstate for predicted\n",
    "KstestResult(statistic=0.0878754171301446, pvalue=1.7628425444227528e-09)\n",
    "\n",
    "kstate for rec\n",
    "KstestResult(statistic=0.1449758991472006, pvalue=3.985088359880826e-25)\n",
    "\n",
    "rmse for predicted\n",
    "1.0626336855832508\n",
    "rmse for rec\n",
    "3.1759373734747105\n",
    "\n",
    "predicted mean\n",
    "-0.217963963294658\n",
    "predicted stdev\n",
    "2.653823084947007\n",
    "\n",
    "rec mean\n",
    "-0.7325807970729759\n",
    "\n",
    "rec stdev\n",
    "11.223222027816053\n",
    "\n",
    "30000, 48 with better graphs 12711465 ###########################################\n",
    "kstate for predicted\n",
    "KstestResult(statistic=0.12347052280311457, pvalue=2.5258175621706976e-18)\n",
    "\n",
    "kstate for rec\n",
    "KstestResult(statistic=0.14312198739340007, pvalue=1.699409644429269e-24)\n",
    "\n",
    "rmse for predicted\n",
    "1.1730997934688847\n",
    "rmse for rec\n",
    "3.306710546914299\n",
    "\n",
    "predicted mean\n",
    "-0.21294426540113795\n",
    "\n",
    "predicted stdev\n",
    "3.459458626181679\n",
    "\n",
    "rec mean\n",
    "-0.6705982494349275\n",
    "\n",
    "rec stdev\n",
    "11.638237003093368\n",
    "\n",
    "another 30000, 12827135 #########################################\n",
    "\n",
    "state for predicted\n",
    "KstestResult(statistic=0.16129032258064516, pvalue=5.041782160273394e-31)\n",
    "\n",
    "kstate for rec\n",
    "KstestResult(statistic=0.15016685205784205, pvalue=6.209694663590803e-27)\n",
    "\n",
    "rmse for predicted\n",
    "1.1353905406408633\n",
    "rmse for rec\n",
    "3.2880403152627276\n",
    "\n",
    "predicted mean\n",
    "0.013665759194922704\n",
    "\n",
    "predicted stdev\n",
    "2.7889266786191955\n",
    "\n",
    "rec mean\n",
    "-0.8317088943436151\n",
    "\n",
    "rec stdev\n",
    "11.650910135334287\n",
    "\n",
    "[657.55962039   0.83053851   0.7624742 ] \n",
    "\n",
    "\n",
    "\n",
    "momentum cut. around 22000 dataset. 12829915, 38 epochs. ###############################\n",
    "\n",
    "kstate for predicted\n",
    "KstestResult(statistic=0.2541535698248765, pvalue=1.416744186193395e-63)\n",
    "\n",
    "kstate for rec\n",
    "KstestResult(statistic=0.11809609339919173, pvalue=6.076846150477555e-14)\n",
    "\n",
    "rmse for predicted\n",
    "1.5756716386477376\n",
    "rmse for rec\n",
    "2.7636728546083256\n",
    "\n",
    "predicted mean\n",
    "0.3188894546980086\n",
    "\n",
    "predicted stdev\n",
    "3.103954285905109\n",
    "\n",
    "\n",
    "rec mean\n",
    "-0.31311925330760104\n",
    "\n",
    "rec stdev\n",
    "10.119629292288165\n",
    "\n",
    "[314.47639721   1.22873759   1.28107518] \n",
    "\n",
    "\n",
    "momentum cut, theta momentum, 12829998, 38 epoch ############################ \n",
    "\n",
    "kstate for predicted\n",
    "KstestResult(statistic=0.13569620253164558, pvalue=2.900204840942591e-16)\n",
    "\n",
    "kstate for rec\n",
    "KstestResult(statistic=0.020253164556962026, pvalue=0.812808582796572)\n",
    "\n",
    "rmse for predicted\n",
    "0.16312529667544917\n",
    "rmse for rec\n",
    "0.06822438956297759\n",
    "\n",
    "predicted mean\n",
    "-0.10962016817712569\n",
    "\n",
    "predicted stdev\n",
    "0.21211056611083387\n",
    "\n",
    "rec mean\n",
    "-0.0020275732004278145\n",
    "\n",
    "rec stdev\n",
    "0.1963251902925784\n",
    "\n",
    "[47.41024721 -0.0872051   0.11920133]\n",
    "\n",
    "\n",
    "momentum cut, phii momentum, 12830107 , 38 epoc \n",
    "\n",
    "kstate for predicted\n",
    "KstestResult(statistic=0.13569620253164558, pvalue=2.900204840942591e-16)\n",
    "\n",
    "kstate for rec\n",
    "KstestResult(statistic=0.00810126582278481, pvalue=0.9999999483679219)\n",
    "\n",
    "rmse for predicted\n",
    "0.6372483252744254\n",
    "rmse for rec\n",
    "0.2487967268962705\n",
    "\n",
    "predicted mean\n",
    "0.1455114136957742\n",
    "\n",
    "predicted stdev\n",
    "1.005888026600854\n",
    "\n",
    "rec mean\n",
    "0.009156465577914191\n",
    "\n",
    "rec stdev\n",
    "0.8876608794843269\n",
    "\n",
    "[34.87964464  0.13925619  0.47145971]\n",
    "\n",
    "\n",
    "\n",
    "another normal run, 30000, 38 epochs. 12840819 \n",
    "kstate for predicted\n",
    "KstestResult(statistic=0.13830181683351872, pvalue=6.752803304503173e-23)\n",
    "\n",
    "kstate for rec\n",
    "KstestResult(statistic=0.13793103448275862, pvalue=8.916604793473007e-23)\n",
    "\n",
    "rmse for predicted\n",
    "1.156277842067588\n",
    "rmse for rec\n",
    "3.2906832959292984\n",
    "\n",
    "predicted mean\n",
    "-0.16722430423258475\n",
    "predicted stdev\n",
    "3.28785229845588\n",
    "rec mean\n",
    "-0.6125960092450132\n",
    "\n",
    "rec stdev\n",
    "11.581751401841805\n",
    "\n",
    "[552.7305211    0.69418476   0.90180984]\n",
    "\n",
    "\n",
    "phi with better graphs 12842060  \n",
    "kstate for predicted\n",
    "KstestResult(statistic=0.09620253164556962, pvalue=2.251723456355462e-08)\n",
    "\n",
    "kstate for rec\n",
    "KstestResult(statistic=0.011139240506329114, pvalue=0.9996989684423622)\n",
    "\n",
    "rmse for predicted\n",
    "0.6552731941897921\n",
    "rmse for rec\n",
    "0.2701197875674482\n",
    "\n",
    "predicted mean\n",
    "0.14901087324269968\n",
    "predicted stdev\n",
    "1.0376753839314046\n",
    "\n",
    "rec mean\n",
    "-1.7756936944429745e-06\n",
    "\n",
    "rec stdev\n",
    "0.9402398365447457\n",
    "\n",
    "[282.02584025   0.30522401   0.52888464] \n",
    "\n",
    "\n"
   ]
  },
  {
   "cell_type": "code",
   "execution_count": 5,
   "id": "b58f0692-0eb2-49f3-8a53-df2349fd1bf8",
   "metadata": {},
   "outputs": [
    {
     "data": {
      "text/plain": [
       "Text(0, 0.5, 'kstatistic')"
      ]
     },
     "execution_count": 5,
     "metadata": {},
     "output_type": "execute_result"
    },
    {
     "data": {
      "image/png": "[encoded data removed]",
      "text/plain": [
       "<Figure size 432x288 with 1 Axes>"
      ]
     },
     "metadata": {
      "needs_background": "light"
     },
     "output_type": "display_data"
    }
   ],
   "source": [
    "import matplotlib.pyplot as plt\n",
    "\n",
    "kstatt = [1, .32967032967032966, .2638580931263858, .23893805309734514, .10845383759733036, .1164256581386726]\n",
    "sizee = [100, 1000, 5000, 10000, 20000, 30000]\n",
    "plt.plot(sizee, kstatt)\n",
    "plt.title(' kstatistic vs size of dataset')\n",
    "plt.xlabel('size of dataset') \n",
    "plt.ylabel('kstatistic')"
   ]
  },
  {
   "cell_type": "code",
   "execution_count": 17,
   "id": "493f5faa-64a7-493e-930f-b7012d3c5fe0",
   "metadata": {},
   "outputs": [
    {
     "name": "stdout",
     "output_type": "stream",
     "text": [
      "KstestResult(statistic=0.0, pvalue=1.0)\n"
     ]
    }
   ],
   "source": [
    "print(kstest(pi_rec_y, pi_rec_y)) "
   ]
  },
  {
   "cell_type": "code",
   "execution_count": null,
   "id": "668f31d4-05e0-442d-b380-a30981f02247",
   "metadata": {},
   "outputs": [],
   "source": [
    " "
   ]
  },
  {
   "cell_type": "code",
   "execution_count": null,
   "id": "6755e8a7-054c-44ec-9e23-940d5172d5e1",
   "metadata": {},
   "outputs": [],
   "source": []
  },
  {
   "cell_type": "code",
   "execution_count": null,
   "id": "d87132d1-e592-413b-8bdd-f460e00516b4",
   "metadata": {},
   "outputs": [],
   "source": []
  },
  {
   "cell_type": "code",
   "execution_count": null,
   "id": "25aa842f-c1eb-41e3-990b-ecf36b57a675",
   "metadata": {},
   "outputs": [],
   "source": []
  },
  {
   "cell_type": "code",
   "execution_count": null,
   "id": "4279d1b5-cec7-4f3f-845f-82dc478bf0f9",
   "metadata": {},
   "outputs": [],
   "source": []
  },
  {
   "cell_type": "code",
   "execution_count": null,
   "id": "13d49440-1a20-488d-a309-c8d04285b70f",
   "metadata": {},
   "outputs": [],
   "source": []
  },
  {
   "cell_type": "code",
   "execution_count": null,
   "id": "506948be-d6f4-42b2-a95e-f05862308ecf",
   "metadata": {},
   "outputs": [],
   "source": []
  },
  {
   "cell_type": "code",
   "execution_count": null,
   "id": "0c241e66-a064-49d2-ab4c-d9229a080c4f",
   "metadata": {},
   "outputs": [],
   "source": []
  }
 ],
 "metadata": {
  "kernelspec": {
   "display_name": "test",
   "language": "python",
   "name": "test"
  },
  "language_info": {
   "codemirror_mode": {
    "name": "ipython",
    "version": 3
   },
   "file_extension": ".py",
   "mimetype": "text/x-python",
   "name": "python",
   "nbconvert_exporter": "python",
   "pygments_lexer": "ipython3",
   "version": "3.8.8"
  }
 },
 "nbformat": 4,
 "nbformat_minor": 5
}
